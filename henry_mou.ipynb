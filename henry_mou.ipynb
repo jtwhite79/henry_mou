{
 "cells": [
  {
   "cell_type": "code",
   "execution_count": null,
   "metadata": {},
   "outputs": [],
   "source": [
    "import os\n",
    "import sys\n",
    "import shutil\n",
    "import platform\n",
    "import numpy as np\n",
    "import pandas as pd\n",
    "from ipywidgets import interact\n",
    "import ipywidgets as widgets\n",
    "from IPython.display import Image\n",
    "from matplotlib.patches import Rectangle\n",
    "from matplotlib.colors import Normalize\n",
    "from matplotlib.backends.backend_pdf import PdfPages\n",
    "import matplotlib.pyplot as plt\n",
    "sys.path.append(os.path.join(\"..\",\"..\",\"pyemu\"))\n",
    "sys.path.append(os.path.join(\"..\",\"..\",\"flopy\"))\n",
    "import pyemu"
   ]
  },
  {
   "cell_type": "markdown",
   "metadata": {},
   "source": [
    "This is an early demo of how the outputs from PESTPP-MOU can be used for decision support. Subject to change"
   ]
  },
  {
   "cell_type": "code",
   "execution_count": null,
   "metadata": {},
   "outputs": [],
   "source": [
    "pst = pyemu.Pst(os.path.join(\"henry.pst\"))\n",
    "par = pst.parameter_data\n",
    "par = par.loc[par.pargp==\"dv_pars\",:].copy()\n",
    "rate_pars = par.loc[par.parnme.apply(lambda x: not x.startswith(\"ar\")),\"parnme\"].to_list()\n",
    "rate_pars"
   ]
  },
  {
   "cell_type": "code",
   "execution_count": null,
   "metadata": {},
   "outputs": [],
   "source": [
    "df_org = pd.read_csv(os.path.join(\"henry.75.archive.dv_pop.csv\"))\n",
    "keep_cols = [c for c in df_org.columns if c.startswith(\"ar\")]\n",
    "keep_cols.extend(rate_pars)\n",
    "df_org = df_org.loc[:,keep_cols]\n",
    "df_org.loc[:, rate_pars] *= -1.\n",
    "\n",
    "tot = df_org.loc[:, rate_pars].sum(axis=1)"
   ]
  },
  {
   "cell_type": "code",
   "execution_count": null,
   "metadata": {},
   "outputs": [],
   "source": [
    "def plot(pump_min,concen_min,rch_max):\n",
    "    \n",
    "\n",
    "    cmap = plt.get_cmap(\"viridis\")\n",
    "    norm = Normalize(0.0,35.0)    \n",
    "        \n",
    "\n",
    "    # only show solutions with some min amount of pumping\n",
    "    df_gen = df_org.loc[tot > pump_min]\n",
    "    # and only show solutions using concen > some % seawater\n",
    "    df_gen = df_gen.loc[df_gen.ar_concen >= concen_min]\n",
    "    df_gen = df_gen.loc[df_gen.ar_rate <= rch_max]\n",
    "\n",
    "    \n",
    "    \n",
    "        \n",
    "    fig,ax = plt.subplots(1,1,figsize=(10,6))\n",
    "    #ax = axes[0]\n",
    "    axt = plt.twinx()\n",
    "    if df_gen.shape[0] == 0:\n",
    "        ax.text(0.5,0.5,\"No Feasible Solutions\",ha=\"center\",va=\"center\",fontsize=10)\n",
    "        ax.set_xlim(0,1)\n",
    "        ax.set_ylim(0,1)\n",
    "        return\n",
    "    \n",
    "    #dmn = df_gen.ar_dist.min()\n",
    "    #dmx = df_gen.ar_dist.max()\n",
    "    \n",
    "    xlim = (0,160)\n",
    "    ylim = (0,3.5)\n",
    "    \n",
    "    for d,w,r,c,r1,r2,r3 in zip(df_gen.ar_dist,df_gen.ar_width,df_gen.ar_rate,\n",
    "                       df_gen.ar_concen,df_gen.loc[:,rate_pars[0]],\n",
    "                                df_gen.loc[:,rate_pars[1]],\n",
    "                                df_gen.loc[:,rate_pars[2]]):\n",
    "        r = Rectangle((d,0),w,r,facecolor=cmap(c/35.0),edgecolor=\"none\",alpha=0.5)\n",
    "        ax.add_patch(r)\n",
    "        mpt = d + (w/2.)\n",
    "        #axes[1].plot([mpt,mpt],[0,r1],color=cmap(c/35.0))\n",
    "        #axes[2].plot([mpt, mpt], [0, r2], color=cmap(c / 35.0))\n",
    "        #axes[3].plot([mpt, mpt], [0, r3], color=cmap(c / 35.0))\n",
    "        axt.plot([mpt,mpt],[0,-1*(r1+r2+r3)],c=\"0.5\")\n",
    "        \n",
    "    ax.set_xlim(xlim)\n",
    "    ax.set_ylim(ylim)\n",
    "    ax.set_xlabel(\"column\",fontsize=10)\n",
    "    ax.set_ylabel(\"recharge flux rate\",fontsize=10)\n",
    "    axt.set_xlim(xlim)\n",
    "    axt.set_ylim(-3.5,0)\n",
    "    axt.set_ylabel(\"total extraction rate\", fontsize=10)\n",
    "    cb = plt.colorbar(plt.cm.ScalarMappable(norm=norm,cmap=cmap),orientation=\"horizontal\")\n",
    "    cb.set_label(\"recharge concentration\",fontsize=10)\n",
    "    ax.set_title(\"{0} feasible nondom solutions (bar width=basin location, height=rch rate, color=rch concen)\".format(df_gen.shape[0]),fontsize=10)\n",
    "#     for i,ax in enumerate(axes[1:]):\n",
    "#         ax.set_ylim(ylim)\n",
    "#         ax.set_xlim(xlim)\n",
    "#         ax.set_title(\"pumping well {0}\".format(i+1),fontsize=10)\n",
    "#         ax.set_ylabel(\"pumping rate\",fontsize=10)\n",
    "\n",
    "\n",
    "    plt.tight_layout()\n",
    "    \n",
    "\n"
   ]
  },
  {
   "cell_type": "code",
   "execution_count": null,
   "metadata": {},
   "outputs": [],
   "source": [
    "pump_slider = widgets.FloatSlider(description=\"min ext rate\", \n",
    "                                           continuous_update=False, min=0.0,max=2.0,value=1.0)\n",
    "concen_slider = widgets.FloatSlider(description=\"min rch conc\", \n",
    "                                           continuous_update=False, min=0.01,max=35.0,value=3.5)\n",
    "rate_slider = widgets.FloatSlider(description=\"max rch rate\", \n",
    "                                           continuous_update=False, min=0.0,max=2.0,value=2.0)"
   ]
  },
  {
   "cell_type": "code",
   "execution_count": null,
   "metadata": {},
   "outputs": [],
   "source": [
    "if False:\n",
    "    import flopy\n",
    "    ucn = flopy.utils.HeadFile(os.path.join(m_d,\"trans.ucn\"),text=\"concentration\").get_data()\n",
    "    fig,ax = plt.subplots(1,1,figsize=(10,3))\n",
    "    cb = ax.imshow(ucn[:,0,:],vmin=0.0,vmax=35.0)\n",
    "\n",
    "    #c = plt.colorbar(cb)\n",
    "    #c.set_label(\"concentration\",fontsize=15)\n",
    "    ax.scatter([60,60,60],[10,20,30],c='r',marker='o',s=50)\n",
    "    ax.text(62,20,\"pumping wells\",color=\"r\",fontsize=15,ha=\"left\",va=\"center\", rotation=90)\n",
    "    ax.plot([90,100],[0,0],\"r-\",lw=10)\n",
    "    ax.text(95,2,\"possible\\nrecharge\\nbasin\",color=\"r\",fontsize=15,ha=\"center\",va=\"top\")\n",
    "    ax.plot([0,40],[0,0],\"r-\",lw=10)\n",
    "    ax.text(20,4,\"areal recharge\",color=\"r\",fontsize=15,ha=\"center\",va=\"center\")\n",
    "    ax.plot([159,159],[0,40],\"r-\",lw=10)\n",
    "    ax.text(155,20,\"coastal boundary\",color=\"r\",fontsize=15,ha=\"center\",va=\"center\",rotation=90)\n",
    "\n",
    "    ax.set_title(\"Henry-ish model domain\",fontsize=15)\n",
    "    ax.set_ylim(40,0)\n",
    "    ax.set_ylabel(\"layer\",fontsize=15)\n",
    "    _ = ax.set_xlabel(\"column\",fontsize=15)\n",
    "    plt.tight_layout()\n",
    "    plt.savefig(\"henry_domain.png\")\n",
    "\n",
    "\n"
   ]
  },
  {
   "cell_type": "code",
   "execution_count": null,
   "metadata": {},
   "outputs": [],
   "source": [
    "Image(\"henry_domain.png\",width=700,unconfined=True)"
   ]
  },
  {
   "cell_type": "markdown",
   "metadata": {},
   "source": [
    "The purpose of this analysis is to design an optimal recharge basin and combination extraction well usage scheme to maximize water being withdrawn for potable use.\n",
    "\n",
    "Decision variables:\n",
    "- rates at three extraction wells\n",
    "- distance from left edge to start of recharge basin\n",
    "- width of recharge basin\n",
    "- recharge basin rate\n",
    "- recharge basin concentration\n",
    "\n",
    "Constraints:\n",
    "- water removed by three extraction wells has concentration less 0.01 g/l\n",
    "\n",
    "Objectives:\n",
    "- minimize recharge basin width (prefer a small basin)\n",
    "- minimize recharge basin rate (prefer to use less water)\n",
    "- maximize recharge basin concentration (prefer to use shitty water for recharge basin)\n",
    "- maximize extraction well rates (well, yeah!)\n",
    "\n",
    "Use the sliders below to enforce limits on the objectives and see what possible solutions exist"
   ]
  },
  {
   "cell_type": "code",
   "execution_count": null,
   "metadata": {
    "scrolled": false
   },
   "outputs": [],
   "source": [
    "interact(plot, pump_min=pump_slider, concen_min=concen_slider, rch_max=rate_slider,);\n",
    "Image(\"henry_domain.png\",width=700,unconfined=True)"
   ]
  },
  {
   "cell_type": "code",
   "execution_count": null,
   "metadata": {},
   "outputs": [],
   "source": []
  }
 ],
 "metadata": {
  "kernelspec": {
   "display_name": "Python 3",
   "language": "python",
   "name": "python3"
  },
  "language_info": {
   "codemirror_mode": {
    "name": "ipython",
    "version": 3
   },
   "file_extension": ".py",
   "mimetype": "text/x-python",
   "name": "python",
   "nbconvert_exporter": "python",
   "pygments_lexer": "ipython3",
   "version": "3.8.6"
  }
 },
 "nbformat": 4,
 "nbformat_minor": 4
}
